{
  "nbformat": 4,
  "nbformat_minor": 0,
  "metadata": {
    "colab": {
      "name": "DCGAN_MNIST.ipynb",
      "version": "0.3.2",
      "provenance": [],
      "collapsed_sections": []
    },
    "kernelspec": {
      "name": "python3",
      "display_name": "Python 3"
    },
    "accelerator": "GPU"
  },
  "cells": [
    {
      "cell_type": "code",
      "metadata": {
        "id": "fZ6LW32jygeo",
        "colab_type": "code",
        "colab": {}
      },
      "source": [
        "from keras.layers import Dense,Reshape,Input,Flatten,Dropout,BatchNormalization,ZeroPadding2D,Activation\n",
        "from keras.layers.advanced_activations import LeakyReLU\n",
        "from keras.layers.convolutional import UpSampling2D,Conv2D\n",
        "from keras.models import Model\n",
        "from keras.optimizers import Adam\n",
        "from keras.datasets import mnist\n",
        "import matplotlib.pyplot as plt\n",
        "import numpy as np"
      ],
      "execution_count": 0,
      "outputs": []
    },
    {
      "cell_type": "code",
      "metadata": {
        "id": "NAJsZTcp6WxT",
        "colab_type": "code",
        "colab": {}
      },
      "source": [
        "def build_generator(noise_shape = (100,)):\n",
        "  inp = Input(noise_shape)\n",
        "  x = Dense(128*7*7,activation = \"relu\")(inp)\n",
        "  x = Reshape((7,7,128))(x)\n",
        "  x = BatchNormalization(momentum = 0.8)(x)\n",
        "  x = UpSampling2D()(x)\n",
        "  x = Conv2D(128,kernel_size = 3,padding = \"same\")(x)\n",
        "  x = Activation(\"relu\")(x)\n",
        "  x = BatchNormalization(momentum=0.8)(x)\n",
        "  x = UpSampling2D()(x)\n",
        "  x = Conv2D(64,kernel_size = 3,padding = \"same\")(x)\n",
        "  x = Activation(\"relu\")(x)\n",
        "  x = BatchNormalization(momentum=0.8)(x)\n",
        "  x = Conv2D(1,kernel_size = 3,padding = \"same\")(x)\n",
        "  out = Activation(\"tanh\")(x)\n",
        "  model = Model(inp, out)\n",
        "  print(\"-- Generator -- \")\n",
        "  model.summary()\n",
        "  return model"
      ],
      "execution_count": 0,
      "outputs": []
    },
    {
      "cell_type": "code",
      "metadata": {
        "id": "TPWv1j7A8RPQ",
        "colab_type": "code",
        "colab": {}
      },
      "source": [
        "def build_discriminator(img_shape):\n",
        "  inp = Input(img_shape)\n",
        "  x = Conv2D(32,kernel_size = 3,strides = 2,padding = \"same\")(inp)\n",
        "  x = LeakyReLU(alpha = 0.2)(x)\n",
        "  x = Dropout(0.25)(x)\n",
        "  x = Conv2D(64,kernel_size =3,strides = 2,padding = \"same\")(x)\n",
        "  x = ZeroPadding2D(padding = ((0,1),(0,1)))(x)\n",
        "  x = LeakyReLU(alpha = 0.2)(x)\n",
        "  x = Dropout(0.25)(x)\n",
        "  x = BatchNormalization(momentum = 0.8)(x)\n",
        "  x = Conv2D(128, kernel_size=3, strides=2, padding=\"same\")(x)\n",
        "  x = LeakyReLU(alpha=0.2)(x)\n",
        "  x = Dropout(0.25)(x)\n",
        "  x = BatchNormalization(momentum=0.8)(x)\n",
        "  x = Conv2D(256, kernel_size=3, strides=1, padding=\"same\")(x)\n",
        "  x = LeakyReLU(alpha=0.2)(x)\n",
        "  x = Dropout(0.25)(x)\n",
        "  x = Flatten()(x)\n",
        "  out = Dense(1, activation='sigmoid')(x)\n",
        "\n",
        "  model = Model(inp, out)\n",
        "  print(\"-- Discriminator -- \")\n",
        "  model.summary()\n",
        "  return model"
      ],
      "execution_count": 0,
      "outputs": []
    },
    {
      "cell_type": "code",
      "metadata": {
        "id": "2HOS4IjA9qJz",
        "colab_type": "code",
        "colab": {}
      },
      "source": [
        "def load_data():\n",
        "  (x_train,_),(_,_) = mnist.load_data()\n",
        "  x_train = (x_train.astype(np.float32) - 127.5) / 127.5\n",
        "  x_train = np.expand_dims(x_train, axis=3)\n",
        "  return x_train"
      ],
      "execution_count": 0,
      "outputs": []
    },
    {
      "cell_type": "code",
      "metadata": {
        "id": "xeApeQot-AQz",
        "colab_type": "code",
        "colab": {}
      },
      "source": [
        "def build_models():\n",
        "  gen_optimizer = Adam(lr = 0.0002,beta_1 = 0.5)\n",
        "  disc_optimizer = Adam(lr = 0.0002,beta_1 = 0.5)\n",
        "  \n",
        "  discriminator = build_discriminator(img_shape = (28,28,1))\n",
        "  discriminator.compile(loss = \"binary_crossentropy\",optimizer = disc_optimizer,metrics = [\"accuracy\"])\n",
        "  \n",
        "  generator = build_generator()\n",
        "  generator.compile(loss='binary_crossentropy', optimizer=gen_optimizer)\n",
        "  \n",
        "  z = Input((100,))\n",
        "  img  = generator(z)\n",
        "  discriminator.trainable = False\n",
        "  real = discriminator(img)\n",
        "  combined = Model(z,real)\n",
        "  combined.compile(loss='binary_crossentropy', optimizer=gen_optimizer)\n",
        "  return generator, discriminator, combined"
      ],
      "execution_count": 0,
      "outputs": []
    },
    {
      "cell_type": "code",
      "metadata": {
        "id": "lXCcXByR_mQY",
        "colab_type": "code",
        "colab": {}
      },
      "source": [
        "def save_imgs(generator, epoch, batch):\n",
        "    r, c = 5, 5\n",
        "    noise = np.random.normal(0, 1, (r * c, 100))\n",
        "    gen_imgs = generator.predict(noise)\n",
        "\n",
        "    # Rescale images 0 - 1\n",
        "    gen_imgs = 0.5 * gen_imgs + 0.5\n",
        "\n",
        "    fig, axs = plt.subplots(r, c)\n",
        "    cnt = 0\n",
        "    for i in range(r):\n",
        "        for j in range(c):\n",
        "            axs[i, j].imshow(gen_imgs[cnt, :, :, 0], cmap='gray')\n",
        "            axs[i, j].axis('off')\n",
        "            cnt += 1\n",
        "    fig.savefig(\"images/mnist_%d_%d.png\" % (epoch, batch))\n",
        "    plt.close()\n"
      ],
      "execution_count": 0,
      "outputs": []
    },
    {
      "cell_type": "code",
      "metadata": {
        "id": "kREf-Nco_q9k",
        "colab_type": "code",
        "colab": {}
      },
      "source": [
        "!mkdir images"
      ],
      "execution_count": 0,
      "outputs": []
    },
    {
      "cell_type": "code",
      "metadata": {
        "id": "wJf1b67x_spL",
        "colab_type": "code",
        "colab": {}
      },
      "source": [
        "def train(generator,discriminator,combined,epochs = 2000,batch_size = 128,save_interval =100):\n",
        "    X_train = load_data()\n",
        "\n",
        "    num_examples = X_train.shape[0]\n",
        "    num_batches = int(num_examples / float(batch_size))\n",
        "    print('Number of examples: ', num_examples)\n",
        "    print('Number of Batches: ', num_batches)\n",
        "    print('Number of epochs: ', epochs)\n",
        "    \n",
        "    half_batch = int(batch_size/2)\n",
        "    \n",
        "    for epoch in range(epochs+1):\n",
        "      for batch in range(num_batches):\n",
        "                    # noise images for the batch\n",
        "            noise = np.random.normal(0, 1, (half_batch, 100))\n",
        "            fake_images = generator.predict(noise)\n",
        "            fake_labels = np.zeros((half_batch, 1))\n",
        "\n",
        "            # real images for batch\n",
        "            idx = np.random.randint(0, X_train.shape[0], half_batch)\n",
        "            real_images = X_train[idx]\n",
        "            real_labels = np.ones((half_batch, 1))\n",
        "\n",
        "            # Train the discriminator (real classified as ones and generated as zeros)\n",
        "            d_loss_real = discriminator.train_on_batch(real_images, real_labels)\n",
        "            d_loss_fake = discriminator.train_on_batch(fake_images, fake_labels)\n",
        "            d_loss = 0.5 * np.add(d_loss_real, d_loss_fake)\n",
        "\n",
        "            noise = np.random.normal(0, 1, (batch_size, 100))\n",
        "            # Train the generator\n",
        "            g_loss = combined.train_on_batch(noise, np.ones((batch_size, 1)))\n",
        "\n",
        "            # Plot the progress\n",
        "            print(\"Epoch %d Batch %d/%d [D loss: %f, acc.: %.2f%%] [G loss: %f]\" %\n",
        "                  (epoch,batch, num_batches, d_loss[0], 100 * d_loss[1], g_loss))\n",
        "\n",
        "            if batch % save_interval == 0:\n",
        "                save_imgs(generator, epoch, batch)\n"
      ],
      "execution_count": 0,
      "outputs": []
    },
    {
      "cell_type": "code",
      "metadata": {
        "id": "wt4su8WbDYAS",
        "colab_type": "code",
        "colab": {}
      },
      "source": [
        "gen,disc,adv = build_models()\n",
        "train(gen,disc,adv,epochs=20,save_interval=200)"
      ],
      "execution_count": 0,
      "outputs": []
    },
    {
      "cell_type": "code",
      "metadata": {
        "id": "jr_jjZpXDiio",
        "colab_type": "code",
        "colab": {}
      },
      "source": [
        "gen.save(\"generator.h5\")\n",
        "disc.save(\"discriminator.h5\")\n",
        "adv.save(\"adversarial.h5\")"
      ],
      "execution_count": 0,
      "outputs": []
    },
    {
      "cell_type": "code",
      "metadata": {
        "id": "nqtPQE6HFlNk",
        "colab_type": "code",
        "colab": {}
      },
      "source": [
        "!mv \"/content/images\" \"/content/drive/My Drive\""
      ],
      "execution_count": 0,
      "outputs": []
    },
    {
      "cell_type": "code",
      "metadata": {
        "id": "YzCkbCm-JQf2",
        "colab_type": "code",
        "colab": {}
      },
      "source": [
        "z = np.random.normal(0,1,(1,100))"
      ],
      "execution_count": 0,
      "outputs": []
    },
    {
      "cell_type": "code",
      "metadata": {
        "id": "8DbchTp1JaXg",
        "colab_type": "code",
        "colab": {}
      },
      "source": [
        "img = gen.predict(z)"
      ],
      "execution_count": 0,
      "outputs": []
    },
    {
      "cell_type": "code",
      "metadata": {
        "id": "gdLLkyL1JdfB",
        "colab_type": "code",
        "colab": {
          "base_uri": "https://localhost:8080/",
          "height": 286
        },
        "outputId": "56c63da9-378c-4c22-fa74-485ce17ad2f6"
      },
      "source": [
        "plt.imshow(img.reshape((28,28)),cmap=\"gray\")"
      ],
      "execution_count": 49,
      "outputs": [
        {
          "output_type": "execute_result",
          "data": {
            "text/plain": [
              "<matplotlib.image.AxesImage at 0x7fb6a2a304e0>"
            ]
          },
          "metadata": {
            "tags": []
          },
          "execution_count": 49
        },
        {
          "output_type": "display_data",
          "data": {
            "image/png": "[encoded data removed]",
            "text/plain": [
              "<Figure size 432x288 with 1 Axes>"
            ]
          },
          "metadata": {
            "tags": []
          }
        }
      ]
    },
    {
      "cell_type": "code",
      "metadata": {
        "id": "CU-EpKKxJhgi",
        "colab_type": "code",
        "colab": {}
      },
      "source": [
        ""
      ],
      "execution_count": 0,
      "outputs": []
    }
  ]
}